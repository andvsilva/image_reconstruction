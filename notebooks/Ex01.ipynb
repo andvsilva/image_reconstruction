{
 "cells": [
  {
   "cell_type": "code",
   "execution_count": 26,
   "id": "13e67554-0655-4284-b0d9-3eedde7eb281",
   "metadata": {
    "tags": []
   },
   "outputs": [],
   "source": [
    "#%matplotlib widget\n",
    "#%matplotlib inline\n",
    "#from IPython.display import display, HTML, Image\n",
    "#display(HTML(\"<style>.con\\tainer { width:90% !important; }</style>\"))\n",
    "#from pynx.cdi.widgets import CDIViewer\n",
    "from ipywidgets import interact, IntSlider\n",
    "#import matplotlib.pyplot as plt\n",
    "from matplotlib.colors import LogNorm\n",
    "import numpy as np\n",
    "import h5py\n",
    "import matplotlib.pyplot as plt"
   ]
  },
  {
   "cell_type": "code",
   "execution_count": 27,
   "id": "68fd72c1-52ed-4e30-a5df-53a2051adbd4",
   "metadata": {
    "tags": []
   },
   "outputs": [
    {
     "data": {
      "application/vnd.jupyter.widget-view+json": {
       "model_id": "72ca5aecff4c4b41a7e983857bf5e7d4",
       "version_major": 2,
       "version_minor": 0
      },
      "text/plain": [
       "interactive(children=(IntSlider(value=75, continuous_update=False, description='i', max=150), Output()), _dom_…"
      ]
     },
     "metadata": {},
     "output_type": "display_data"
    },
    {
     "name": "stdout",
     "output_type": "stream",
     "text": [
      "(151, 256, 256)\n"
     ]
    }
   ],
   "source": [
    "# carregando o dado\n",
    "with h5py.File('../dataset/summed.cxi', 'r') as file:\n",
    "    d = file['entry_1/data_1/data'][()] #Acessa o conjunto de dados dentro do arquivo HDF5. Os dados são armazenados em d.\n",
    "\n",
    "def iplot(i):\n",
    "    plt.clf()\n",
    "    plt.imshow(d[i], norm=LogNorm(), cmap='jet')\n",
    "    plt.colorbar()\n",
    "    plt.title(f'2D Slice at Index {i}')\n",
    "    plt.tight_layout()\n",
    "    plt.show()\n",
    "\n",
    "# Set up the interactive slider\n",
    "slider = IntSlider(min=0, max=len(d)-1, step=1, value=len(d)//2, continuous_update=False)\n",
    "\n",
    "# Create the interactive plot\n",
    "interact(iplot, i=slider)\n",
    "print(d.shape)"
   ]
  },
  {
   "cell_type": "code",
   "execution_count": 28,
   "id": "75d31439-6b8f-46ce-a444-223509f1f8a2",
   "metadata": {
    "tags": []
   },
   "outputs": [
    {
     "name": "stdout",
     "output_type": "stream",
     "text": [
      "Image Dimension:\n",
      "Height............:  151\n",
      "Width.............:  256\n",
      "Depth.............:  256\n"
     ]
    }
   ],
   "source": [
    "with h5py.File('../dataset/summed.cxi', 'r') as file:\n",
    "    d = np.array(file['entry_1/data_1/data']) #Acessa o conjunto de dados dentro do arquivo HDF5. Os dados são armazenados em d.\n",
    "\n",
    "print('Image Dimension:')\n",
    "print(f'Height............:  {d.shape[0]}')\n",
    "print(f'Width.............:  {d.shape[1]}')\n",
    "print(f'Depth.............:  {d.shape[2]}')"
   ]
  },
  {
   "cell_type": "code",
   "execution_count": 29,
   "id": "3b62369d-d1f1-4e8c-af50-f751260e74a0",
   "metadata": {
    "tags": []
   },
   "outputs": [],
   "source": [
    "# Pre processing\n",
    "# Steps:\n",
    "#  1 -> flatfield\n",
    "#  2 -> mask\n",
    "\n",
    "def pre_processing(d):\n",
    "    def aplicar_flatfield_e_plotar(d):\n",
    "        # Criar o flatfield (cria um array que tem a mesma forma e tipo de dados que a matriz\n",
    "        #tridimensional d, onde todos os elementos são defindos como 1. \n",
    "        flatfield = np.ones_like(d) \n",
    "\n",
    "        # Aplicar o flatfield a todas as fatias\n",
    "        dados_corrigidos = d / flatfield\n",
    "\n",
    "        #Calcula o número de fatias no conjunto de dados tridimensionais onde o eixo 0 represeta\n",
    "        #as fatias. Pega o tamanho ao longo do eixo 0.\n",
    "        num_fatias = d.shape[0]\n",
    "        \n",
    "        return dados_corrigidos\n",
    "\n",
    "    def aplicar_mascara_e_plotar(dados_corrigidos):\n",
    "        num_fatias = dados_corrigidos.shape[0]\n",
    "\n",
    "        for i in range(num_fatias):\n",
    "            # Gerar uma máscara binária aleatória para cada fatia\n",
    "            mask = np.random.randint(0, 2, size=dados_corrigidos[i, :, :].shape)\n",
    "\n",
    "            # Aplicar a máscara: onde a máscara é 1, substitui por -1\n",
    "            dados_corrigidos[i, :, :][mask == 1] = -1\n",
    "\n",
    "            # Aplicar a máscara à fatia selecionada\n",
    "            dados_mascarados = dados_corrigidos[i, :, :] * mask\n",
    "\n",
    "    # Chamar a função de processamento\n",
    "    dados_corrigidos = aplicar_flatfield_e_plotar(d)\n",
    "\n",
    "    # Chamar a função de aplicar máscara na variável modificada\n",
    "    aplicar_mascara_e_plotar(dados_corrigidos)\n",
    "\n",
    "pre_processing(d)\n"
   ]
  },
  {
   "cell_type": "code",
   "execution_count": null,
   "id": "f1dfb4a8-05e0-4d17-bc5e-6578b055792d",
   "metadata": {},
   "outputs": [],
   "source": [
    "### next step - pynx (ER + "
   ]
  }
 ],
 "metadata": {
  "kernelspec": {
   "display_name": "Python 3 (ipykernel)",
   "language": "python",
   "name": "python3"
  },
  "language_info": {
   "codemirror_mode": {
    "name": "ipython",
    "version": 3
   },
   "file_extension": ".py",
   "mimetype": "text/x-python",
   "name": "python",
   "nbconvert_exporter": "python",
   "pygments_lexer": "ipython3",
   "version": "3.11.6"
  }
 },
 "nbformat": 4,
 "nbformat_minor": 5
}
